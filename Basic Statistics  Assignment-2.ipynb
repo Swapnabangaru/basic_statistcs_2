{
 "cells": [
  {
   "cell_type": "code",
   "execution_count": 1,
   "id": "e0092a34",
   "metadata": {},
   "outputs": [],
   "source": [
    "import numpy as np\n",
    "\n",
    "data = [1.13, 1.55, 1.43, 0.92, 1.25, 1.36, 1.32, 0.85, 1.07, 1.48, 1.20, 1.33, 1.18, 1.22, 1.29]\n",
    "sample_mean = np.mean(data)\n"
   ]
  },
  {
   "cell_type": "code",
   "execution_count": 2,
   "id": "a9a0754d",
   "metadata": {},
   "outputs": [],
   "source": [
    "sample_std_dev = np.std(data, ddof=1)\n"
   ]
  },
  {
   "cell_type": "code",
   "execution_count": 3,
   "id": "12191bec",
   "metadata": {},
   "outputs": [],
   "source": [
    "from scipy import stats\n",
    "\n",
    "alpha = 0.01\n",
    "t_critical = stats.t.ppf(1 - alpha / 2, df=len(data) - 1)\n"
   ]
  },
  {
   "cell_type": "code",
   "execution_count": 4,
   "id": "5eea4248",
   "metadata": {},
   "outputs": [],
   "source": [
    "margin_of_error = t_critical * (sample_std_dev / np.sqrt(len(data)))\n"
   ]
  },
  {
   "cell_type": "code",
   "execution_count": 5,
   "id": "f8b1c098",
   "metadata": {},
   "outputs": [],
   "source": [
    "confidence_interval = (sample_mean - margin_of_error, sample_mean + margin_of_error)\n"
   ]
  },
  {
   "cell_type": "code",
   "execution_count": 6,
   "id": "86af9a24",
   "metadata": {},
   "outputs": [],
   "source": [
    "z_critical = stats.norm.ppf(1 - alpha / 2)\n",
    "population_std_dev = 0.2\n",
    "margin_of_error_known_sd = z_critical * (population_std_dev / np.sqrt(len(data)))\n"
   ]
  },
  {
   "cell_type": "code",
   "execution_count": 7,
   "id": "4d425e89",
   "metadata": {},
   "outputs": [],
   "source": [
    "confidence_interval_known_sd = (sample_mean - margin_of_error_known_sd, sample_mean + margin_of_error_known_sd)\n"
   ]
  },
  {
   "cell_type": "code",
   "execution_count": 8,
   "id": "ebe3aa6c",
   "metadata": {},
   "outputs": [
    {
     "name": "stdout",
     "output_type": "stream",
     "text": [
      "99% Confidence Interval (Sample SD): (1.090197338451367, 1.3871359948819662)\n",
      "99% Confidence Interval (Known SD): (1.1056514133957607, 1.3716819199375725)\n"
     ]
    }
   ],
   "source": [
    "import numpy as np\n",
    "from scipy import stats\n",
    "\n",
    "# Data\n",
    "data = [1.13, 1.55, 1.43, 0.92, 1.25, 1.36, 1.32, 0.85, 1.07, 1.48, 1.20, 1.33, 1.18, 1.22, 1.29]\n",
    "\n",
    "# Sample Mean and Standard Deviation\n",
    "sample_mean = np.mean(data)\n",
    "sample_std_dev = np.std(data, ddof=1)\n",
    "\n",
    "# Confidence Interval Using Sample Standard Deviation\n",
    "alpha = 0.01\n",
    "t_critical = stats.t.ppf(1 - alpha / 2, df=len(data) - 1)\n",
    "margin_of_error = t_critical * (sample_std_dev / np.sqrt(len(data)))\n",
    "confidence_interval = (sample_mean - margin_of_error, sample_mean + margin_of_error)\n",
    "\n",
    "# Confidence Interval Using Known Population Standard Deviation\n",
    "z_critical = stats.norm.ppf(1 - alpha / 2)\n",
    "population_std_dev = 0.2\n",
    "margin_of_error_known_sd = z_critical * (population_std_dev / np.sqrt(len(data)))\n",
    "confidence_interval_known_sd = (sample_mean - margin_of_error_known_sd, sample_mean + margin_of_error_known_sd)\n",
    "\n",
    "# Print Results\n",
    "print(f\"99% Confidence Interval (Sample SD): {confidence_interval}\")\n",
    "print(f\"99% Confidence Interval (Known SD): {confidence_interval_known_sd}\")\n"
   ]
  },
  {
   "cell_type": "code",
   "execution_count": null,
   "id": "7abfff81",
   "metadata": {},
   "outputs": [],
   "source": []
  }
 ],
 "metadata": {
  "kernelspec": {
   "display_name": "Python 3 (ipykernel)",
   "language": "python",
   "name": "python3"
  },
  "language_info": {
   "codemirror_mode": {
    "name": "ipython",
    "version": 3
   },
   "file_extension": ".py",
   "mimetype": "text/x-python",
   "name": "python",
   "nbconvert_exporter": "python",
   "pygments_lexer": "ipython3",
   "version": "3.11.5"
  }
 },
 "nbformat": 4,
 "nbformat_minor": 5
}
